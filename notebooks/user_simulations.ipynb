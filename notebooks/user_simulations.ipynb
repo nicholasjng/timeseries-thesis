{
 "cells": [
  {
   "cell_type": "markdown",
   "metadata": {},
   "source": [
    "# User Behavior Simulations with Gaussian Mixture Model assumptions\n",
    "\n",
    "In this notebook we want to simulate different types of users by generating login timestamps after a Gaussian Mixture Model distribution. \n",
    "\n",
    "As a generating density, we will use a Gaussian mixture model of the form \n",
    "\n",
    "\\begin{equation}\n",
    "P(x | \\Theta) = \\sum\\limits_{i=1}^n w_i \\mathcal{N}(x | \\theta_i) = \\sum\\limits_{i=1}^n w_i \\mathcal{N}(\\mu_i, \\sigma_i^2)\n",
    "\\end{equation}\n",
    "\n",
    "or a Gamma mixture \n",
    "\n",
    "\\begin{equation}\n",
    "P(x | \\Theta) = \\sum\\limits_{i=1}^n w_i \\mathrm{Gamma}(x | k_i, \\theta_i),\n",
    "\\end{equation}\n",
    "\n",
    "where the $w_i$ are weights chosen such that $\\sum\\limits_{i=1}^n w_i = 1$.\n",
    "\n",
    "Different states of behavior can be simulated by adjusting the parameters of the distributions as well as the weights $w_i$. For instance, a more regular user will generally have sharper constituent distributions with small variance. This can also be the case if a user is constrained to a small window in his arrival time, which could happen e.g. due to a course that is offered at a gym at the same times on different days.\n",
    "\n",
    "The scope of this notebook is to make a rapid prototype of user behavior simulation along with quick visualization to interpret the results. "
   ]
  },
  {
   "cell_type": "code",
   "execution_count": 1,
   "metadata": {},
   "outputs": [],
   "source": [
    "import numpy as np\n",
    "import pandas as pd \n",
    "import matplotlib.pyplot as plt\n",
    "\n",
    "from ipywidgets import interact, interactive, fixed, interact_manual\n",
    "import ipywidgets as widgets\n",
    "\n",
    "# Add directory above current directory to path\n",
    "import sys; \n",
    "if not \"..\" in sys.path:\n",
    "    sys.path.insert(0, '..')\n",
    "\n",
    "%load_ext autoreload\n",
    "%autoreload 2\n",
    "\n",
    "import yaml\n",
    "\n",
    "#cython support\n",
    "import pyximport\n",
    "pyximport.install(reload_support=True, language_level=2, setup_args={\"include_dirs\": np.get_include()})\n",
    "\n",
    "#cython entropy functions, loaded separately\n",
    "from regularity_analysis.regularity_measures import cython_approximate_entropy, cython_sample_entropy\n",
    "\n",
    "from regularity_analysis.user_simulations import simulate_user_with_mixture, simulate_user_with_hmm\n",
    "from regularity_analysis.feature_extraction import approximate_entropy, sample_entropy, permutation_entropy, integer_representation_entropy, fourier_spectrum_entropy, sliding_window_calculation\n",
    "from utils.plot_utils import plot_user_histogram_with_density\n",
    "from utils.animation_utils import *\n",
    "from utils.time_utils import get_periodogram, get_welch_periodogram"
   ]
  },
  {
   "cell_type": "code",
   "execution_count": 2,
   "metadata": {},
   "outputs": [
    {
     "data": {
      "text/html": [
       "<style>.container { width:100% !important; }</style>"
      ],
      "text/plain": [
       "<IPython.core.display.HTML object>"
      ]
     },
     "metadata": {},
     "output_type": "display_data"
    }
   ],
   "source": [
    "#run this cell for fullscreen jupyter cells\n",
    "from IPython.core.display import display, HTML\n",
    "display(HTML(\"<style>.container { width:100% !important; }</style>\"))"
   ]
  },
  {
   "cell_type": "markdown",
   "metadata": {},
   "source": [
    "We add a small plotting utility to overlay user histograms with their mixture densities."
   ]
  },
  {
   "cell_type": "markdown",
   "metadata": {},
   "source": [
    "Now we define a small routine that prints out our regularity statistics for a given user."
   ]
  },
  {
   "cell_type": "markdown",
   "metadata": {},
   "source": [
    "Now everything is set in place for the simulation to start. We define the parameters, mixture type and weights below."
   ]
  },
  {
   "cell_type": "code",
   "execution_count": 3,
   "metadata": {},
   "outputs": [],
   "source": [
    "#start simulating from January 1st, 2014\n",
    "start_date = \"01-01-2014\"\n",
    "\n",
    "#means and standard deviations\n",
    "gaussian_means = np.array([2.0, 3.0])\n",
    "gaussian_vars = np.array([0.01, 0.01])\n",
    "\n",
    "gmm_weights = np.array([0.9, 0.1])\n",
    "gmm_weights /= np.sum(gmm_weights)\n",
    "\n",
    "#means and standard deviations, not equal to the actual gamma parameters!\n",
    "gamma_means = np.array([2.0, 3.0, 5.0])\n",
    "gamma_vars = np.array([0.1, 0.2, 0.3])\n",
    "\n",
    "gamma_weights = np.array([0.8, 0.19, 0.01])\n",
    "gamma_weights /= np.sum(gamma_weights)"
   ]
  },
  {
   "cell_type": "code",
   "execution_count": 4,
   "metadata": {},
   "outputs": [],
   "source": [
    "user = simulate_user_with_mixture(start_date, gaussian_means, gaussian_vars, gmm_weights, num_samples=50)\n",
    "fft_user = get_periodogram(user)\n",
    "second_user = simulate_user_with_mixture(start_date, gamma_means, gamma_vars, gamma_weights, mixture_type=\"gamma\", num_samples=200)\n",
    "second_fft_user = get_periodogram(second_user)"
   ]
  },
  {
   "cell_type": "markdown",
   "metadata": {},
   "source": [
    "# Part 2: User Simulations with Gaussian Hidden Markov Models\n",
    "\n",
    "We just saw that by simply drawing a sample from the specified mixture distribution, the users we generate are localized in time, meaning that their timedelta distribution is rather sharp. This is to be expected, because we specified rather small variances in the simulation ($\\sigma^2 ≤ 0.3$). \n",
    "\n",
    "However, when we calculate the regularity statistics for these users, we find that all of them produce comparatively high values, indicating that the users exhibit irregular behavior. This is affirmed by the generated time series plots, which show wildly oscillating spikes in between spaces of more regularity. This means that a localized timedelta distribution alone does not produce regular users, at least as long as there are enough different components with sufficiently high probabilities. \n",
    "\n",
    "The angle we take on regularity focuses on self-transitions in a simulated Markov process of the user. In dynamical systems theory, this is called \\textit{recurrence}. Based on this concept, a user is regular if the probability of him staying in a given state is high. \n",
    "\n",
    "In the above example, all states are chosen based on weights $w_i$. States with higher weights are more common, while states with smaller weights are more rare. However, the transition probabilities of these states are equal, which means that each sample is drawn with the same fixed discrete probability distribution specified by the weight vector $w$. \n",
    "\n",
    "The Hidden Markov Model (HMM) models these transition probabilities for a set of finite symbols with a \\textit{transition matrix} $A$. Each entry corresponds to the probability of transition from state i to state j in the next timestep, i.e.\n",
    "\n",
    "\\begin{equation}\n",
    "A_{ij} = P(x_t = j | x_{t-1} = i). \n",
    "\\end{equation}\n",
    "\n",
    "The term \"hidden\" comes from the fact that these states cannot be directly measured, but rather a proxy variable that is tied to the hidden variable can be measured. In our setting, the state of mind or behavior of a human being is unobtainable, i.e. a hidden state, and we use timedelta data between visits to perform inference of behavioral state changes through changes in the observable. \n",
    "\n",
    "For this recipe to work, a probabilistic model of what state is most likely to emit what timedelta data has to be specified. For this, we use the \\textit{emission matrix} $B$ whose entries are defined as \n",
    "\n",
    "\\begin{equation}\n",
    "B_{ij} = P(x_t = j | z_t = i). \n",
    "\\end{equation}\n",
    "\n",
    "Lastly, we need an initial distribution of observable states, commonly known as $\\pi$. In our previous setting, this would correspond directly to the weight vector $w$. "
   ]
  },
  {
   "cell_type": "code",
   "execution_count": 5,
   "metadata": {},
   "outputs": [],
   "source": [
    "func_dispatch = {\"apen\": approximate_entropy, \"sampen\": sample_entropy, \"entropy\": fourier_spectrum_entropy}"
   ]
  },
  {
   "cell_type": "code",
   "execution_count": 6,
   "metadata": {},
   "outputs": [
    {
     "data": {
      "application/vnd.jupyter.widget-view+json": {
       "model_id": "42ca067ff3934cf0910ad96f1da82ccd",
       "version_major": 2,
       "version_minor": 0
      },
      "text/plain": [
       "interactive(children=(IntSlider(value=2, description='m', max=8, min=2), FloatSlider(value=1.0, description='m…"
      ]
     },
     "metadata": {},
     "output_type": "display_data"
    }
   ],
   "source": [
    "@interact(m=(2,8,1), max_r=(0.2,3.0,0.1))\n",
    "def apen_sampen_animation(m=2, max_r=1.0, N=50):\n",
    "    \"\"\"\n",
    "    Small function for animating ApEn or SampEn as a function of the noise level r.\n",
    "    Arguments:\n",
    "    timeseries: pd.Series, holds values for simulation\n",
    "    animation_config: dict, contains config for the animation\n",
    "    ms: list, list of m parameters to use for ApEn and SampEn calculation\n",
    "    rs: list, interval of rs to compute the ApEns and SampEns over \n",
    "    entropy_type: str, type of entropy to use\n",
    "    \"\"\"\n",
    "    # set up figure and animation\n",
    "    my_dpi = 220\n",
    "    fig, ax = plt.subplots(figsize=(2560/my_dpi, 1600/my_dpi), dpi=my_dpi)\n",
    "    \n",
    "    reg_data = np.zeros((N,2))\n",
    "    \n",
    "    rs = np.linspace(0.01, max_r, num=N, endpoint=True)\n",
    "\n",
    "    for i, r in enumerate(rs):\n",
    "        reg_data[i,0] = approximate_entropy(user, m=m, r=r)\n",
    "        reg_data[i,1] = sample_entropy(user, m=m, r=r)\n",
    "    \n",
    "    ax.grid()    \n",
    "    ax.plot(rs, reg_data[:,0], rs, reg_data[:,1])\n",
    "\n",
    "    ax.legend(['ApEn({}, {:0.2f})'.format(m, r), 'SampEn({}, {:0.2f})'.format(m, r)])\n",
    "    ax.set_xlabel(\"r\")\n",
    "    ax.set_ylabel(\"ApEn/SampEn(m,r)\")\n",
    "    ax.set_xlim(rs[0], rs[-1])\n",
    "    ax.set_ylim(0.0, 3.0)\n",
    "\n",
    "    plt.show()"
   ]
  },
  {
   "cell_type": "code",
   "execution_count": 8,
   "metadata": {},
   "outputs": [
    {
     "data": {
      "application/vnd.jupyter.widget-view+json": {
       "model_id": "cec2a9c86725489c811b6184b23e18f0",
       "version_major": 2,
       "version_minor": 0
      },
      "text/plain": [
       "interactive(children=(IntSlider(value=2, description='m', max=8, min=2), FloatSlider(value=0.2, description='r…"
      ]
     },
     "metadata": {},
     "output_type": "display_data"
    }
   ],
   "source": [
    "@interact(m=(2,8,1), r=(0.2,3.0), n=(2,12,1))\n",
    "def apen_fixed_animation(m=2, r=0.2, n=5, N=50):\n",
    "    \"\"\"\n",
    "    Small function for animating ApEn or SampEn as a function of the noise level r.\n",
    "    Arguments:\n",
    "    timeseries: pd.Series, holds values for simulation\n",
    "    animation_config: dict, contains config for the animation\n",
    "    ms: list, list of m parameters to use for ApEn and SampEn calculation\n",
    "    rs: list, interval of rs to compute the ApEns and SampEns over \n",
    "    entropy_type: str, type of entropy to use\n",
    "    \"\"\"\n",
    "\n",
    "    # set up figure and animation\n",
    "    my_dpi = 220\n",
    "    fig, ax = plt.subplots(figsize=(2560/my_dpi, 1600/my_dpi), dpi=my_dpi)\n",
    "    \n",
    "    reg_data = np.zeros((N,3))\n",
    "    \n",
    "    running = np.arange(2,N+2)\n",
    "    \n",
    "    for i in running:\n",
    "        user_values = np.zeros(i)\n",
    "        user_values[0] = 1.0\n",
    "        user_series = pd.Series(user_values)\n",
    "        \n",
    "        reg_data[i-2,0] = approximate_entropy(user_series, m=m, r=r)\n",
    "        reg_data[i-2,1] = sample_entropy(user_series, m=m, r=r)\n",
    "        reg_data[i-2,2] = integer_representation_entropy(user_series, n=n)\n",
    "    \n",
    "    ax.grid()\n",
    "    \n",
    "    ax.plot(running, reg_data[:,0], running, reg_data[:,1], running, reg_data[:,2])\n",
    "\n",
    "    ax.legend([\"ApEn({}, {:0.2f})\".format(m, r), \"SampEn({}, {:0.2f})\".format(m, r), \"IntRepEn({})\".format(n)])\n",
    "    ax.set_xlabel(\"Series Length\")\n",
    "    ax.set_ylabel(\"ApEn/SampEn(m,r)\")\n",
    "    ax.set_title(\"Entropies for a small number of visits\")\n",
    "    ax.set_xlim(running[0], running[-1])\n",
    "    ax.set_ylim(0.0, 2.0)\n",
    "\n",
    "    plt.show()"
   ]
  },
  {
   "cell_type": "code",
   "execution_count": 9,
   "metadata": {},
   "outputs": [
    {
     "data": {
      "application/vnd.jupyter.widget-view+json": {
       "model_id": "49f25d4a09f049f18cb729837b2e24d8",
       "version_major": 2,
       "version_minor": 0
      },
      "text/plain": [
       "interactive(children=(FloatSlider(value=5.0, description='mean', max=10.0, min=1.0), FloatSlider(value=0.01, d…"
      ]
     },
     "metadata": {},
     "output_type": "display_data"
    }
   ],
   "source": [
    "@interact(mean=(1.0,10.0,0.1), m=(2,8,1), r=(0.2,3.0), N=(100,500,10), sigma=(0.001,5.0,0.1))\n",
    "def single_user_sim(mean=5.0, sigma=0.01, entropy_type=\"ApEn\", m=2, r=0.2, N=200):\n",
    "    \"\"\"\n",
    "    Small function for animating a single Fourier spectrum entropy as a function of sigma in a user simulation.\n",
    "    Arguments:\n",
    "    animation_config: dict, contains config for the plot   \n",
    "    mean: Mean of the Gaussian for timedelta simulation\n",
    "    sigmas: tuple, range of sigmas to use in computation\n",
    "    entropy_type: str, type of entropy to compute\n",
    "    m: m used for ApEn and SampEn\n",
    "    r: r used for ApEn and SampEn \n",
    "    \"\"\"\n",
    "    global func_dispatch\n",
    "    my_dpi = 220\n",
    "    # set up figure and animation\n",
    "    fig = plt.figure(figsize=(2560/my_dpi, 1600/my_dpi), dpi=my_dpi)\n",
    "\n",
    "    gs = fig.add_gridspec(2,3)\n",
    "    ax1 = fig.add_subplot(gs[0,0])\n",
    "    ax2 = fig.add_subplot(gs[0,1])\n",
    "    ax3 = fig.add_subplot(gs[0,2])\n",
    "    ax4 = fig.add_subplot(gs[1,:])\n",
    "\n",
    "    key = entropy_type.lower()\n",
    "\n",
    "    ts_entropy_names = {\"apen\": \"Binary ApEn(m = {}, r = {})\".format(m,r), \"sampen\": \"Binary SampEn (m = {}, r = {})\".format(m,r)}\n",
    "    entropy_names = {\"apen\": \"Power Spectrum ApEn(m = {}, r = {})\".format(m,r), \"sampen\": \"Power Spectrum SampEn (m = {}, r = {})\".format(m,r), \"entropy\": \"Power Spectrum Entropy\"}\n",
    "    kwds = {\"apen\": {\"m\": m, \"r\": r}, \"sampen\": {\"m\": m, \"r\": r}, \"entropy\": {\"normalize\": True}} \n",
    "\n",
    "    ax1.grid()\n",
    "    ax2.grid()\n",
    "    ax3.grid()\n",
    "    ax4.grid()\n",
    "    ax1.title.set_text(\"Timeseries\")\n",
    "    ax2.title.set_text(\"Density Histogram\")\n",
    "    ax3.title.set_text(\"FFT Power Spectrum\")\n",
    "    #ax4.legend()\n",
    "\n",
    "    running = np.linspace(0.001, sigma, num=N, endpoint=True)\n",
    "\n",
    "    reg_data = np.zeros((N, 3))\n",
    "\n",
    "    ax4.set_xlabel(\"sigma^2\")\n",
    "    ax4.set_ylabel(\"Entropies\")\n",
    "    ax4.set_xlim(running[0], running[-1])\n",
    "    ax4.set_ylim(0.0, 1.5)\n",
    "    \n",
    "    weights = np.ones(1)\n",
    "    means = weights * mean\n",
    "    variances = weights * sigma\n",
    "    \n",
    "    for i, sigma in enumerate(running):\n",
    "        timeseries = simulate_user_with_mixture(\"01-01-2016\", means=means, variances=variances, weights=weights, num_samples=100)\n",
    "        bin_series = binary_user_from_td(timeseries)\n",
    "        periodogram = get_periodogram(bin_series)\n",
    "        if i == N - 1:\n",
    "            bin_series.plot(ax=ax1, color=\"blue\")\n",
    "            plot_user_histogram_with_density(timeseries, means=means, variances=variances, weights=weights, ax=ax2)\n",
    "            periodogram.plot(ax=ax3, color=\"blue\")\n",
    "        \n",
    "        reg_data[i,0] = func_dispatch[key](bin_series, **kwds[key])\n",
    "        reg_data[i,1] = func_dispatch[key](periodogram, **kwds[key])\n",
    "        reg_data[i,2] = fourier_spectrum_entropy(periodogram)\n",
    "        \n",
    "    ax4.plot(running, reg_data[:,0], running, reg_data[:,1], running, reg_data[:,2])\n",
    "    ax4.legend([ts_entropy_names[key], entropy_names[key], \"Fourier Spectrum Entropy\"])\n",
    "    plt.show()"
   ]
  },
  {
   "cell_type": "code",
   "execution_count": 10,
   "metadata": {},
   "outputs": [
    {
     "data": {
      "application/vnd.jupyter.widget-view+json": {
       "model_id": "64e37ed56fe54e43af87af66a0a01cc2",
       "version_major": 2,
       "version_minor": 0
      },
      "text/plain": [
       "HBox(children=(VBox(children=(FloatSlider(value=2.0, description='mean1', max=50.0, min=1.0, step=1.0), FloatS…"
      ]
     },
     "metadata": {},
     "output_type": "display_data"
    },
    {
     "data": {
      "application/vnd.jupyter.widget-view+json": {
       "model_id": "1d03f62100934b60b0d0a8a777e2cc01",
       "version_major": 2,
       "version_minor": 0
      },
      "text/plain": [
       "Output()"
      ]
     },
     "metadata": {},
     "output_type": "display_data"
    }
   ],
   "source": [
    "from ipywidgets import FloatSlider, IntSlider, HBox, VBox\n",
    "weight1_s = FloatSlider(min=0.0, max=1.0, step=0.01, value=0.5, description=\"weight1\")\n",
    "mean1_s = FloatSlider(min=1.0, max=50.0, step=1.0, value=2.0, description=\"mean1\")\n",
    "mean2_s = FloatSlider(min=1.0, max=50.0, step=1.0, value=7.0, description=\"mean2\")\n",
    "sigma1_s = FloatSlider(min=0.1, max=5.0, step=0.1, value=0.2, description=\"sigma1\")\n",
    "sigma2_s = FloatSlider(min=0.1, max=5.0, step=0.1, value=0.2, description=\"sigma2\")\n",
    "m_s = IntSlider(min=2, max=8, step=1, value=2, description=\"m\")\n",
    "r_s = FloatSlider(min=0.1, max=3.0, step=0.1, value=0.2, description=\"r\")\n",
    "N_s = IntSlider(min=100, max=500, step=10, value=200, description=\"N\")\n",
    "\n",
    "widget_list = [mean1_s, mean2_s, sigma1_s, sigma2_s, weight1_s, m_s, r_s, N_s]\n",
    "\n",
    "widget_dict = {\"mean1\": mean1_s, \"mean2\": mean2_s, \"sigma1\": sigma1_s, \"sigma2\": sigma2_s, \"weight1\": weight1_s, \"m\": m_s, \"r\": r_s, \"N\": N_s}\n",
    "\n",
    "def multi_user_sim(mean1, mean2, sigma1, sigma2, weight1, m, r, N, entropy_type=\"ApEn\"):\n",
    "    \"\"\"\n",
    "    Small function for animating a single Fourier spectrum entropy as a function of sigma in a user simulation.\n",
    "    Arguments:\n",
    "    animation_config: dict, contains config for the plot   \n",
    "    mean: Mean of the Gaussian for timedelta simulation\n",
    "    sigmas: tuple, range of sigmas to use in computation\n",
    "    entropy_type: str, type of entropy to compute\n",
    "    m: m used for ApEn and SampEn\n",
    "    r: r used for ApEn and SampEn \n",
    "    \"\"\"\n",
    "    global func_dispatch\n",
    "    my_dpi = 220\n",
    "    # set up figure and animation\n",
    "    fig = plt.figure(figsize=(2560/my_dpi, 1600/my_dpi), dpi=my_dpi)\n",
    "\n",
    "    gs = fig.add_gridspec(2,3)\n",
    "    ax1 = fig.add_subplot(gs[0,0])\n",
    "    ax2 = fig.add_subplot(gs[0,1])\n",
    "    ax3 = fig.add_subplot(gs[0,2])\n",
    "    ax4 = fig.add_subplot(gs[1,:])\n",
    "\n",
    "    key = entropy_type.lower()\n",
    "\n",
    "    ts_entropy_names = {\"apen\": \"Binary ApEn(m = {}, r = {})\".format(m,r), \"sampen\": \"Binary SampEn (m = {}, r = {})\".format(m,r)}\n",
    "    entropy_names = {\"apen\": \"Power Spectrum ApEn(m = {}, r = {})\".format(m,r), \"sampen\": \"Power Spectrum SampEn (m = {}, r = {})\".format(m,r), \"entropy\": \"Power Spectrum Entropy\"}\n",
    "    kwds = {\"apen\": {\"m\": m, \"r\": r}, \"sampen\": {\"m\": m, \"r\": r}, \"entropy\": {\"normalize\": True}} \n",
    "\n",
    "    ax1.grid()\n",
    "    ax2.grid()\n",
    "    ax3.grid()\n",
    "    ax4.grid()\n",
    "    ax1.title.set_text(\"Timeseries\")\n",
    "    ax2.title.set_text(\"Density Histogram\")\n",
    "    ax3.title.set_text(\"FFT Power Spectrum\")\n",
    "    #ax4.legend()\n",
    "\n",
    "    running = np.linspace(0.01, max(sigma1,sigma2), num=N, endpoint=True)\n",
    "\n",
    "    reg_data = np.zeros((N, 3))\n",
    "\n",
    "    ax4.set_xlabel(\"sigma^2\")\n",
    "    ax4.set_ylabel(\"Entropies\")\n",
    "    ax4.set_xlim(running[0], running[-1])\n",
    "    ax4.set_ylim(0.0, 1.5)\n",
    "    \n",
    "    weights = np.array([weight1, 1.0-weight1])\n",
    "    means = np.array([mean1, mean2])\n",
    "    variances = np.array([sigma1, sigma2])\n",
    "    \n",
    "    for i, sigma in enumerate(running):\n",
    "        timeseries = simulate_user_with_mixture(\"01-01-2016\", means=means, variances=variances, weights=weights, num_samples=100)\n",
    "        bin_series = binary_user_from_td(timeseries)\n",
    "        periodogram = get_periodogram(bin_series)\n",
    "        if i == N - 1:\n",
    "            bin_series.plot(ax=ax1, color=\"blue\")\n",
    "            plot_user_histogram_with_density(timeseries, means=means, variances=variances, weights=weights, ax=ax2)\n",
    "            periodogram.plot(ax=ax3, color=\"blue\")\n",
    "        \n",
    "        reg_data[i,0] = func_dispatch[key](bin_series, **kwds[key])\n",
    "        reg_data[i,1] = func_dispatch[key](periodogram, **kwds[key])\n",
    "        reg_data[i,2] = fourier_spectrum_entropy(periodogram)\n",
    "        \n",
    "    ax4.plot(running, reg_data[:,0], running, reg_data[:,1], running, reg_data[:,2])\n",
    "    ax4.legend([ts_entropy_names[key], entropy_names[key], \"Fourier Spectrum Entropy\"])\n",
    "    plt.show()\n",
    "\n",
    "left_box = VBox(widget_list[:4])\n",
    "right_box = VBox(widget_list[4:])\n",
    "ui = HBox([left_box, right_box])\n",
    "\n",
    "out = widgets.interactive_output(multi_user_sim, widget_dict)\n",
    "\n",
    "display(ui, out)"
   ]
  },
  {
   "cell_type": "code",
   "execution_count": 11,
   "metadata": {},
   "outputs": [
    {
     "data": {
      "application/vnd.jupyter.widget-view+json": {
       "model_id": "b76e41cd0c4f49e095e4c2c28092aad2",
       "version_major": 2,
       "version_minor": 0
      },
      "text/plain": [
       "interactive(children=(Text(value='boxcar', description='window1'), Text(value='hann', description='window2'), …"
      ]
     },
     "metadata": {},
     "output_type": "display_data"
    }
   ],
   "source": [
    "@interact(mean=(1.0,50.0,1.0), max_sigma=(0.01,5.0,0.1), N=(100,1000,10))\n",
    "def fourier_spectrum_window_test(window1=\"boxcar\", window2=\"hann\", window3=\"parzen\", mean=3.0, max_sigma=1.0, N=500):\n",
    "    \"\"\"\n",
    "    Small function for animating the Fourier spectrum entropy as a function of sigma in a user simulation, with different window functions.\n",
    "    Arguments:\n",
    "    mean: Means of the Gaussians/Gammas for user simulation\n",
    "    sigmas: tuple, range of sigmas to use in animation\n",
    "    \"\"\"\n",
    "    means = np.array([mean])\n",
    "    variances = np.array([max_sigma])\n",
    "    weights = np.ones(1)\n",
    "\n",
    "    my_dpi = 220\n",
    "    # set up figure and animation\n",
    "    fig = plt.figure(figsize=(2560/my_dpi, 1600/my_dpi), dpi=my_dpi)\n",
    "\n",
    "    gs = fig.add_gridspec(2,2)\n",
    "    ax1 = fig.add_subplot(gs[0,0])\n",
    "    ax2 = fig.add_subplot(gs[0,1])\n",
    "    ax3 = fig.add_subplot(gs[1,:])\n",
    "    \n",
    "    windows = list([window1, window2, window3])\n",
    "    entropy_names = [\"Power Spectrum Entropy, {} window \".format(window.capitalize()) for window in windows]\n",
    "    \n",
    "    running = np.linspace(0.001, max_sigma, num=N, endpoint=True)\n",
    "    reg_data = np.zeros((N, 3))\n",
    "    \n",
    "    ax2.grid()\n",
    "    ax3.grid()\n",
    "    ax1.title.set_text(\"Density Histogram\")\n",
    "    ax2.title.set_text(\"FFT Power Spectrum\")\n",
    "    ax3.set_xlim(running[0], running[-1])\n",
    "    ax3.set_ylim(0.0,1.0)\n",
    "    ax3.set_xlabel(\"sigma^2\")\n",
    "    ax3.set_ylabel(\"Entropies\")\n",
    "\n",
    "    for i, sigma in enumerate(running):\n",
    "        timeseries = simulate_user_with_mixture(\"01-01-2016\", means=means, variances=variances, weights=weights, num_samples=N)\n",
    "        bin_series = binary_user_from_td(timeseries)\n",
    "        for k, window in enumerate(windows):\n",
    "            periodogram = get_periodogram(bin_series, window=window)\n",
    "            reg_data[i,k] = fourier_spectrum_entropy(periodogram)\n",
    "            if i == N - 1:\n",
    "                periodogram.plot(ax=ax2, label = entropy_names[k])\n",
    "        if i == N - 1:\n",
    "            plot_user_histogram_with_density(timeseries, means=means, variances=variances, weights=weights, ax=ax1)\n",
    "\n",
    "    ax3.plot(running, reg_data[:,0], running, reg_data[:,1], running, reg_data[:,2])\n",
    "    ax3.legend(entropy_names)            \n",
    "    plt.show()"
   ]
  },
  {
   "cell_type": "code",
   "execution_count": 12,
   "metadata": {},
   "outputs": [
    {
     "data": {
      "application/vnd.jupyter.widget-view+json": {
       "model_id": "0ae1d4c25ecd46db83be942c6d1ce400",
       "version_major": 2,
       "version_minor": 0
      },
      "text/plain": [
       "interactive(children=(FloatSlider(value=3.0, description='mean', max=50.0, min=1.0, step=1.0), FloatSlider(val…"
      ]
     },
     "metadata": {},
     "output_type": "display_data"
    }
   ],
   "source": [
    "@interact(mean=(1.0,50.0,1.0), sigma=(0.01,5.0,0.1), N=(100,1000,10))\n",
    "def fourier_spectrum_winsize_test(mean=3.0, sigma=1.0, window1=\"boxcar\", window2=\"hann\", window3=\"parzen\", max_window_size=125, N=300):\n",
    "    \"\"\"\n",
    "    Small function for animating the Fourier spectrum entropy as a function of sigma in a user simulation, with different window sizes.\n",
    "    Arguments:  \n",
    "    mean: Means of the Gaussians/Gammas for user simulation\n",
    "    sigmas: tuple, range of sigmas to use in animation\n",
    "    \"\"\"\n",
    "    means = np.array([mean])\n",
    "    variances = np.array([sigma])\n",
    "    weights = np.ones(1)\n",
    "\n",
    "    my_dpi = 220\n",
    "    # set up figure and animation\n",
    "    fig = plt.figure(figsize=(2560/my_dpi, 1600/my_dpi), dpi=my_dpi)\n",
    "\n",
    "    gs = fig.add_gridspec(2,2)\n",
    "    ax1 = fig.add_subplot(gs[0,0])\n",
    "    ax2 = fig.add_subplot(gs[0,1])\n",
    "    ax3 = fig.add_subplot(gs[1,:])\n",
    "\n",
    "    windows = list([window1, window2, window3])\n",
    "    entropy_names = [\"Power Spectrum Entropy, {} window\".format(window.capitalize()) for window in windows]\n",
    "    \n",
    "    ax3.grid()\n",
    "    ax1.title.set_text(\"Timeseries\")\n",
    "    ax2.title.set_text(\"Periodogram\")\n",
    "\n",
    "    #reset the variances every few frames\n",
    "    running = np.arange(1, max_window_size+1)\n",
    "\n",
    "    reg_data = np.zeros((max_window_size, 3))\n",
    "    \n",
    "    timeseries = simulate_user_with_mixture(\"01-01-2016\", means=means, variances=variances, weights=weights, num_samples=N)\n",
    "    bin_series = binary_user_from_td(timeseries)\n",
    "    \n",
    "    plot_user_histogram_with_density(timeseries, means=means, variances=variances, weights=weights, ax=ax1)\n",
    "\n",
    "    for k, window in enumerate(windows):\n",
    "        reg_data[:,k] = np.array([fourier_spectrum_entropy(get_periodogram(bin_series, window=window, window_size=n)) for n in running])\n",
    "        get_periodogram(bin_series, window=window, window_size=(k+1)*10).plot(ax=ax2, label = entropy_names[k] + \", len = {}\".format(k*5))\n",
    "    \n",
    "    ax3.set_xlabel(\"Window Size N\")\n",
    "    ax3.set_ylabel(\"Entropies\")\n",
    "    ax3.set_xlim(running[0], running[-1])\n",
    "    ax3.set_ylim(0.0, 1.0) #Fourier Spectrum Entropy is normalized\n",
    "\n",
    "    ax2.grid()\n",
    "    ax2.title.set_text(\"Periodogram\")\n",
    "    \n",
    "    ax3.plot(running, reg_data[:,0], running, reg_data[:,1], running, reg_data[:,2])\n",
    "    ax3.legend(entropy_names)            \n",
    "    plt.show()"
   ]
  },
  {
   "cell_type": "code",
   "execution_count": 9,
   "metadata": {},
   "outputs": [
    {
     "data": {
      "application/vnd.jupyter.widget-view+json": {
       "model_id": "b7d8dddfa4aa4e738f2fc8b463b9e596",
       "version_major": 2,
       "version_minor": 0
      },
      "text/plain": [
       "interactive(children=(Text(value='boxcar', description='window1'), Text(value='hann', description='window2'), …"
      ]
     },
     "metadata": {},
     "output_type": "display_data"
    }
   ],
   "source": [
    "import warnings\n",
    "warnings.filterwarnings(\"ignore\", category=UserWarning) \n",
    "pattern = np.array([0.0, 0.0, 1.0, 0.0, 0.0, 0.0, 1.0, 0.0, 0.0, 0.0, 0.0, 0.0, 1.0, 0.0])\n",
    "@interact(reps=(5,500,5), pattern=fixed(pattern))\n",
    "def fourier_spectrum_duration_test(pattern, window1=\"boxcar\", window2=\"hann\", window3=\"parzen\", reps=100, nperseg=128, nfft=256, window_size=7):\n",
    "    \"\"\"\n",
    "    Small function for animating the Fourier spectrum entropy of a completely regular customer.\n",
    "    \"\"\"\n",
    "\n",
    "    my_dpi = 220\n",
    "    # set up figure and animation\n",
    "    fig = plt.figure(figsize=(2560/my_dpi, 1600/my_dpi), dpi=my_dpi)\n",
    "\n",
    "    gs = fig.add_gridspec(2,2)\n",
    "    ax1 = fig.add_subplot(gs[0,0])\n",
    "    ax2 = fig.add_subplot(gs[0,1])\n",
    "    ax3 = fig.add_subplot(gs[1,:])\n",
    "    \n",
    "    windows = [window1, window2, window3]\n",
    "    num_windows = len(windows)\n",
    "\n",
    "    entropy_names = [\"Power Spectrum Entropy, {} window\".format(window.capitalize()) for window in windows]\n",
    "    welch_entropy_names = [\"Welch Power Spectrum Entropy, {} window\".format(window.capitalize()) for window in windows]\n",
    "\n",
    "    names = entropy_names + welch_entropy_names\n",
    "\n",
    "    cmap = plt.get_cmap(\"tab20\", len(names))\n",
    "\n",
    "    #reset the variances every few frames\n",
    "    running = np.arange(1, reps + 1) * len(pattern)\n",
    "\n",
    "    reg_data = np.zeros((len(running), 2 * num_windows))\n",
    "    \n",
    "    ax1.grid()\n",
    "    ax2.grid()\n",
    "    ax3.grid()\n",
    "    ax1.title.set_text(\"Timeseries\")\n",
    "    ax2.title.set_text(\"Periodogram\")\n",
    "    ax3.set_xlim(running[0], running[-1])\n",
    "    ax3.set_ylim(0.0, 1.0) #Fourier Spectrum Entropy is normalized\n",
    "    ax3.set_xlabel(\"Sample Size N\")\n",
    "    ax3.set_ylabel(\"Entropies\")\n",
    "    ax3.set_xscale(\"log\")\n",
    "\n",
    "    for i, num in enumerate(running):\n",
    "        vals = np.tile(pattern, i+1)\n",
    "        timeseries = pd.Series(vals)\n",
    "        \n",
    "        if i == len(running) - 1:\n",
    "            periodogram = get_periodogram(timeseries, window_size=window_size, fs=2.0)\n",
    "            welch_periodogram = get_welch_periodogram(timeseries, window=window1, fs=2.0)\n",
    "            timeseries.plot(ax=ax1, color=\"blue\")\n",
    "            periodogram.plot(ax=ax2, color=\"green\")\n",
    "            welch_periodogram.plot(ax=ax2, color=\"orange\")\n",
    "        for k, window in enumerate(windows):\n",
    "            reg_data[i,k] = fourier_spectrum_entropy(get_periodogram(timeseries, window=window, window_size=window_size), normalize=True)\n",
    "            reg_data[i,k+num_windows] = fourier_spectrum_entropy(get_welch_periodogram(timeseries, window=window, nfft=nfft, nperseg=nperseg), normalize=True)           \n",
    "    \n",
    "    ax3.plot(running, reg_data[:,0], running, reg_data[:,1], running, reg_data[:,2], running, reg_data[:,3], running, reg_data[:,4], running, reg_data[:,5])\n",
    "    ax3.legend(entropy_names + welch_entropy_names)  \n",
    "    plt.show()"
   ]
  }
 ],
 "metadata": {
  "kernelspec": {
   "display_name": "Python 3",
   "language": "python",
   "name": "python3"
  },
  "language_info": {
   "codemirror_mode": {
    "name": "ipython",
    "version": 3
   },
   "file_extension": ".py",
   "mimetype": "text/x-python",
   "name": "python",
   "nbconvert_exporter": "python",
   "pygments_lexer": "ipython3",
   "version": "3.7.7"
  }
 },
 "nbformat": 4,
 "nbformat_minor": 4
}
